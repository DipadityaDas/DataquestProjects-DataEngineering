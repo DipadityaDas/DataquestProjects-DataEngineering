{
 "cells": [
  {
   "cell_type": "markdown",
   "metadata": {
    "collapsed": true
   },
   "source": [
    "# Implementing a Key-Value Database\n",
    "In this short project, we will be using the b-tree data structure as the building block for a fully functioning, saving-to-disk, key-value store. \n",
    "\n",
    "This project will have a data engineering focus and thus different data structures and efficiency will be key. For an analysis focused project, look for some database projects in the Data Analysis Github repo."
   ]
  },
  {
   "cell_type": "markdown",
   "metadata": {},
   "source": [
    "## Introduction\n",
    "A key-value store is a database that operates similar to a Python dictionary but stored in a file. There are the important get and set methods that the dictionary contains, but the key-value store will also provide an API for saving to disk, loading from disk, range queries of our data, and others.\n",
    "\n",
    "Our goal will be to create an easy to use, flexible, and adaptable key value store that other developers could use in their projects.\n",
    "\n",
    "There are multiple implementations of the key-value store that are used in production grade systems worldwide. Some example open source implementations are Redis, CouchDB, Mongo, and Cassandra (which uses a b-tree as the underlying datastructure). These are just a few of the major projects that implement a key-value store that is similar to the one we will be creating.\n",
    "\n",
    "Be careful though; just because we have the same underlying data structure does not mean that our project is production ready. These types of projects have to cater to multiple use cases, are robust and well tested, but the most important is a well defined and easy to use API. In order to be in the same tier, our project has to most certainly have good API design, and we won't get there building a general case. This is why a perfect \"sample\" project does not exist, and most times we must build to cater to specific use cases.\n",
    "\n",
    "With that being said, for this project, we will inherit the majority of the behavior from the BTree structure. However, we will redesign some of the API to make it more user friendly. Finally, we will be implementing some additional behavior to make it function as the key-value database that we expect.\n",
    "\n",
    "We will note that the project itself will be very short in code, and this is not a bad thing! Good design can often very well result in small code, which makes it easy to read, and easy to use. Because this project has a data engineering focus, this is exactly what we want."
   ]
  },
  {
   "cell_type": "markdown",
   "metadata": {},
   "source": [
    "## Implementing the Get and the Set\n",
    "Every key-value store (abbreviated to kv store) implements a get() and set() method that serve as its most important functionality. Like a Python dict, the kv store will set a value for some given key only if value is not None. However, the set() method should also function different from a Python dictionary by requiring the uniqueness of the key, that means if the key exists in the kv store, then throw a duplicate error.\n",
    "\n",
    "For the get() method, we also want to replicate the same behavior from the Python dictionary. If we wish to get() the value for some given key, then we should get the saved value. However, if that key does not exist, the key-value store should throw an exception.\n",
    "\n",
    "An important thing to remember is to always think about the API design as we develop the get() and set() methods. A handy class to use is the NodeKey class that is attached to the project file. With this class, we try to make it so the user of the kv store does not have to create a NodeKey objects first before calling set() on the kv store. Below is the first implementation of the project:"
   ]
  },
  {
   "cell_type": "code",
   "execution_count": 1,
   "metadata": {
    "collapsed": true
   },
   "outputs": [],
   "source": [
    "# get pickle\n",
    "# documentation: https://docs.python.org/3/library/pickle.html\n",
    "# import stuff from btree file\n",
    "import pickle\n",
    "from btree import Node, BTree, NodeKey\n",
    "\n",
    "# make a KV class that inherits BTree\n",
    "class KV(BTree):\n",
    "    # empty init TO BE CONTINUED\n",
    "    def __init__(self, values=None):\n",
    "    \n",
    "    # get method\n",
    "    def get(self, key):\n",
    "        # search for a key given\n",
    "        value = self.search(self.root, key)\n",
    "        # simply return the value or an error if there is none\n",
    "        if value is None:\n",
    "            raise KeyError('There is no value for key \"{}\"'.format(key))\n",
    "        return value\n",
    "    \n",
    "    # set method\n",
    "    def set(self, key, value):\n",
    "        # if no value given - obv error\n",
    "        if value is None:\n",
    "            raise ValueError('Cannot store None values')\n",
    "        # key must match type\n",
    "        if not isinstance(key, self.type):\n",
    "            raise KeyError('Key must be of type {}'.format(self.type))\n",
    "        # set exists to make sure it is none\n",
    "        exists = self.search(self.root, key)\n",
    "        if exists is not None:\n",
    "            raise ValueError('Cannot store duplicate key values')\n",
    "        \n",
    "        # insert the node where the key is given value\n",
    "        node = NodeKey(key, value)\n",
    "        self.insert(node)"
   ]
  },
  {
   "cell_type": "markdown",
   "metadata": {},
   "source": [
    "We can see that a we have a pretty good representation of the KV class going now, starting with the get and set. This is actually a majority of the work already, but we can still do a few more things."
   ]
  },
  {
   "cell_type": "markdown",
   "metadata": {},
   "source": [
    "## Override the Initializer\n",
    "Right now we allow any type to be set as our key. For our kv store to work with a b-tree, we need to set some data type as our key. If we don't then we would be doing comparisons on ints and strs for example. We should override the initializer and set some type that we use to validate the inserted keys in our set() method.\n",
    "\n",
    "We can verify a type by using this Python standard library function:"
   ]
  },
  {
   "cell_type": "code",
   "execution_count": 4,
   "metadata": {
    "collapsed": false
   },
   "outputs": [
    {
     "data": {
      "text/plain": [
       "True"
      ]
     },
     "execution_count": 4,
     "metadata": {},
     "output_type": "execute_result"
    }
   ],
   "source": [
    "# examples of isinstance\n",
    "isinstance('hello', str)  # True\n",
    "isinstance('hello', int)  # False\n",
    "isinstance([], list)      # True"
   ]
  },
  {
   "cell_type": "markdown",
   "metadata": {},
   "source": [
    "An important thing to note is that when overriding the __init__() method, we also want to also call the parent __init__() method. If we don't then we would not be able to set the self.t and self.root properties that are expected. To call the parent __init__() method, we use a function named super() which is just another way of writing the BTree class:"
   ]
  },
  {
   "cell_type": "code",
   "execution_count": 5,
   "metadata": {
    "collapsed": true
   },
   "outputs": [],
   "source": [
    "# example phony init method\n",
    "def __init__(self, some_arg, another_arg):\n",
    "    # Pass some `some_arg` and `another_arg` to the\n",
    "    # parent `__init__` method.\n",
    "    super().__init__(some_arg, another_arg)"
   ]
  },
  {
   "cell_type": "markdown",
   "metadata": {},
   "source": [
    "Below we copy and paste the class code from above to implement these changes. The final piece of code itself will not be very long so we will continue to do this with each step. This can be good as they can be viewed side by side to see where each change happened."
   ]
  },
  {
   "cell_type": "code",
   "execution_count": 6,
   "metadata": {
    "collapsed": true
   },
   "outputs": [],
   "source": [
    "# get pickle\n",
    "# documentation: https://docs.python.org/3/library/pickle.html\n",
    "# import stuff from btree file\n",
    "import pickle\n",
    "from btree import Node, BTree, NodeKey\n",
    "\n",
    "# make a KV class that inherits BTree\n",
    "class KV(BTree):\n",
    "    # adjust init to override - sets data type and degree to 10\n",
    "    def __init__(self, type_, values=None):\n",
    "        self.type = type_\n",
    "        # uses super to call origninal\n",
    "        super().__init__(10)\n",
    "    \n",
    "    # get method\n",
    "    def get(self, key):\n",
    "        # search for a key given\n",
    "        value = self.search(self.root, key)\n",
    "        # simply return the value or an error if there is none\n",
    "        if value is None:\n",
    "            raise KeyError('There is no value for key \"{}\"'.format(key))\n",
    "        return value\n",
    "    \n",
    "    # set method\n",
    "    def set(self, key, value):\n",
    "        # if no value given - obv error\n",
    "        if value is None:\n",
    "            raise ValueError('Cannot store None values')\n",
    "        # key must match type\n",
    "        if not isinstance(key, self.type):\n",
    "            raise KeyError('Key must be of type {}'.format(self.type))\n",
    "        # set exists to make sure it is none\n",
    "        exists = self.search(self.root, key)\n",
    "        if exists is not None:\n",
    "            raise ValueError('Cannot store duplicate key values')\n",
    "        \n",
    "        # insert the node where the key is given value\n",
    "        node = NodeKey(key, value)\n",
    "        self.insert(node)"
   ]
  },
  {
   "cell_type": "markdown",
   "metadata": {},
   "source": [
    "It is noted that we already used a case of isinstance once in the Set method to account for key errors. Now, the __init__() method can be properly overridden to be called for different data types."
   ]
  },
  {
   "cell_type": "markdown",
   "metadata": {},
   "source": [
    "## Reimplementing the Range Queries\n",
    "The current range queries for greater_than() and less_than() are a bit tedious to work with (in the btree file). First, we have to pass in the root node, then we have to pass in a value, an optional upper bound, and then an inclusive! All these can be frustrating for a user who just wants to do a simple range query on their data.\n",
    "\n",
    "To solve this user experience problem, we will implement a new range query method that will abstract away the tedious work for the user. We will still use the old range queries under the hood, but we provide the user with better error returns so they can iteratively learn how to use the range query. This is how we would like the method to behave like:"
   ]
  },
  {
   "cell_type": "code",
   "execution_count": 7,
   "metadata": {
    "collapsed": false
   },
   "outputs": [
    {
     "ename": "NameError",
     "evalue": "name 'kv' is not defined",
     "output_type": "error",
     "traceback": [
      "\u001b[1;31m\u001b[0m",
      "\u001b[1;31mNameError\u001b[0mTraceback (most recent call last)",
      "\u001b[1;32m<ipython-input-7-64efea6a7d01>\u001b[0m in \u001b[0;36m<module>\u001b[1;34m()\u001b[0m\n\u001b[0;32m      1\u001b[0m \u001b[1;31m# this should return all the keys that are within the\u001b[0m\u001b[1;33m\u001b[0m\u001b[1;33m\u001b[0m\u001b[0m\n\u001b[0;32m      2\u001b[0m \u001b[1;31m# interval (0, 5) inclusive.\u001b[0m\u001b[1;33m\u001b[0m\u001b[1;33m\u001b[0m\u001b[0m\n\u001b[1;32m----> 3\u001b[1;33m \u001b[0mkv\u001b[0m\u001b[1;33m.\u001b[0m\u001b[0mrange_query\u001b[0m\u001b[1;33m(\u001b[0m\u001b[1;33m[\u001b[0m\u001b[1;36m0\u001b[0m\u001b[1;33m,\u001b[0m \u001b[1;36m5\u001b[0m\u001b[1;33m]\u001b[0m\u001b[1;33m,\u001b[0m \u001b[0minclusive\u001b[0m\u001b[1;33m=\u001b[0m\u001b[1;32mTrue\u001b[0m\u001b[1;33m)\u001b[0m\u001b[1;33m\u001b[0m\u001b[0m\n\u001b[0m\u001b[0;32m      4\u001b[0m \u001b[1;31m# This should return all values greater than 6.\u001b[0m\u001b[1;33m\u001b[0m\u001b[1;33m\u001b[0m\u001b[0m\n\u001b[0;32m      5\u001b[0m \u001b[0mkv\u001b[0m\u001b[1;33m.\u001b[0m\u001b[0mrange_query\u001b[0m\u001b[1;33m(\u001b[0m\u001b[1;33m[\u001b[0m\u001b[1;36m6\u001b[0m\u001b[1;33m,\u001b[0m \u001b[1;32mNone\u001b[0m\u001b[1;33m]\u001b[0m\u001b[1;33m)\u001b[0m\u001b[1;33m\u001b[0m\u001b[0m\n",
      "\u001b[1;31mNameError\u001b[0m: name 'kv' is not defined"
     ]
    }
   ],
   "source": [
    "# this should return all the keys that are within the\n",
    "# interval (0, 5) inclusive.\n",
    "kv.range_query([0, 5], inclusive=True)\n",
    "# This should return all values greater than 6.\n",
    "kv.range_query([6, None])\n",
    "# This should return all values less than 6.\n",
    "kv.range_query([None, 6])"
   ]
  },
  {
   "cell_type": "markdown",
   "metadata": {},
   "source": [
    "Note: the code above will not run without a kv instance defined first. It is only used as an example.\n",
    "\n",
    "The main thing and condition here for the range query is that the user should not have to pass in the root node, it's too tedious to remember every time."
   ]
  },
  {
   "cell_type": "code",
   "execution_count": 8,
   "metadata": {
    "collapsed": true
   },
   "outputs": [],
   "source": [
    "# get pickle\n",
    "# documentation: https://docs.python.org/3/library/pickle.html\n",
    "# import stuff from btree file\n",
    "import pickle\n",
    "from btree import Node, BTree, NodeKey\n",
    "\n",
    "# make a KV class that inherits BTree\n",
    "class KV(BTree):\n",
    "    # adjust init to override - sets data type and degree to 10\n",
    "    def __init__(self, type_, values=None):\n",
    "        self.type = type_\n",
    "        # uses super to call origninal\n",
    "        super().__init__(10)\n",
    "    \n",
    "    # get method\n",
    "    def get(self, key):\n",
    "        # search for a key given\n",
    "        value = self.search(self.root, key)\n",
    "        # simply return the value or an error if there is none\n",
    "        if value is None:\n",
    "            raise KeyError('There is no value for key \"{}\"'.format(key))\n",
    "        return value\n",
    "    \n",
    "    # set method\n",
    "    def set(self, key, value):\n",
    "        # if no value given - obv error\n",
    "        if value is None:\n",
    "            raise ValueError('Cannot store None values')\n",
    "        # key must match type\n",
    "        if not isinstance(key, self.type):\n",
    "            raise KeyError('Key must be of type {}'.format(self.type))\n",
    "        # set exists to make sure it is none\n",
    "        exists = self.search(self.root, key)\n",
    "        if exists is not None:\n",
    "            raise ValueError('Cannot store duplicate key values')\n",
    "        \n",
    "        # insert the node where the key is given value\n",
    "        node = NodeKey(key, value)\n",
    "        self.insert(node)\n",
    "    \n",
    "    # range query method - optional inclusive\n",
    "    def range_query(self, interval, inclusive=False):\n",
    "        # error message if not list or tuple\n",
    "        if not isinstance(interval, (list, tuple)) and len(interval) != 2:\n",
    "            raise ValueError('The first argument must be a list or tuple of length 2')\n",
    "        \n",
    "        # make interval\n",
    "        lower, upper = interval\n",
    "        \n",
    "        # if lower is none, do less than method, else greater than - simple for user!\n",
    "        if lower is None:\n",
    "            return self.less_than(self.root, upper, inclusive=inclusive)\n",
    "        return self.greater_than(self.root, lower, upper_bound=upper, inclusive=inclusive)"
   ]
  },
  {
   "cell_type": "markdown",
   "metadata": {},
   "source": [
    "It is always helpful to raise some hintful errors like the one inthe range_query method. We can obviously go overboard and raise too many trival ones, but a few here and there can be extremely useful to users."
   ]
  },
  {
   "cell_type": "markdown",
   "metadata": {},
   "source": [
    "## Dump and Load the KV Store\n",
    "Now it's time to get to the bread and butter of the kv store, saving and loading it to disk. The behavior we want to provide is to let a user pass in a filename to load or save to the object to disk. To make it easier for the user, we will attach a our filetype name to the end and check if that file is available to read or write out to.\n",
    "\n",
    "**However, one thing to keep in mind is that we want to provide a load() function that is not an instance method of the KV class. The reason being is that we want to load from a file to create a KV instance. If it was an instance method, then it would be defeating the purpose of the behavior it is trying to provide.**\n",
    "\n",
    "This is the behavior we would like to see:"
   ]
  },
  {
   "cell_type": "code",
   "execution_count": 9,
   "metadata": {
    "collapsed": false
   },
   "outputs": [
    {
     "ename": "NameError",
     "evalue": "name 'kv' is not defined",
     "output_type": "error",
     "traceback": [
      "\u001b[1;31m\u001b[0m",
      "\u001b[1;31mNameError\u001b[0mTraceback (most recent call last)",
      "\u001b[1;32m<ipython-input-9-dc98aa920700>\u001b[0m in \u001b[0;36m<module>\u001b[1;34m()\u001b[0m\n\u001b[0;32m      1\u001b[0m \u001b[1;31m# dumps out to a file called 'sample_kv.db'\u001b[0m\u001b[1;33m\u001b[0m\u001b[1;33m\u001b[0m\u001b[0m\n\u001b[1;32m----> 2\u001b[1;33m \u001b[0mkv\u001b[0m\u001b[1;33m.\u001b[0m\u001b[0mdump\u001b[0m\u001b[1;33m(\u001b[0m\u001b[1;34m'sample_kv'\u001b[0m\u001b[1;33m)\u001b[0m\u001b[1;33m\u001b[0m\u001b[0m\n\u001b[0m\u001b[0;32m      3\u001b[0m \u001b[1;31m# loads from a file called 'sample_kv.db' and\u001b[0m\u001b[1;33m\u001b[0m\u001b[1;33m\u001b[0m\u001b[0m\n\u001b[0;32m      4\u001b[0m \u001b[1;31m# assigns the loaded object to an instance using\u001b[0m\u001b[1;33m\u001b[0m\u001b[1;33m\u001b[0m\u001b[0m\n\u001b[0;32m      5\u001b[0m \u001b[1;31m# a function and not a instance method.\u001b[0m\u001b[1;33m\u001b[0m\u001b[1;33m\u001b[0m\u001b[0m\n",
      "\u001b[1;31mNameError\u001b[0m: name 'kv' is not defined"
     ]
    }
   ],
   "source": [
    "# dumps out to a file called 'sample_kv.db'\n",
    "kv.dump('sample_kv')\n",
    "# loads from a file called 'sample_kv.db' and\n",
    "# assigns the loaded object to an instance using\n",
    "# a function and not a instance method.\n",
    "kv_loaded = load_kv('sample_kv')"
   ]
  },
  {
   "cell_type": "markdown",
   "metadata": {},
   "source": [
    "Note: the code above will not run without a kv instance defined first. It is only used as an example.\n",
    "\n",
    "We implement these methods in the code below."
   ]
  },
  {
   "cell_type": "code",
   "execution_count": 10,
   "metadata": {
    "collapsed": true
   },
   "outputs": [],
   "source": [
    "# get pickle\n",
    "# documentation: https://docs.python.org/3/library/pickle.html\n",
    "# import stuff from btree file\n",
    "import pickle\n",
    "from btree import Node, BTree, NodeKey\n",
    "\n",
    "# make a KV class that inherits BTree\n",
    "class KV(BTree):\n",
    "    # adjust init to override - sets data type and degree to 10\n",
    "    def __init__(self, type_, values=None):\n",
    "        self.type = type_\n",
    "        # uses super to call origninal\n",
    "        super().__init__(10)\n",
    "    \n",
    "    # get method\n",
    "    def get(self, key):\n",
    "        # search for a key given\n",
    "        value = self.search(self.root, key)\n",
    "        # simply return the value or an error if there is none\n",
    "        if value is None:\n",
    "            raise KeyError('There is no value for key \"{}\"'.format(key))\n",
    "        return value\n",
    "    \n",
    "    # set method\n",
    "    def set(self, key, value):\n",
    "        # if no value given - obv error\n",
    "        if value is None:\n",
    "            raise ValueError('Cannot store None values')\n",
    "        # key must match type\n",
    "        if not isinstance(key, self.type):\n",
    "            raise KeyError('Key must be of type {}'.format(self.type))\n",
    "        # set exists to make sure it is none\n",
    "        exists = self.search(self.root, key)\n",
    "        if exists is not None:\n",
    "            raise ValueError('Cannot store duplicate key values')\n",
    "        \n",
    "        # insert the node where the key is given value\n",
    "        node = NodeKey(key, value)\n",
    "        self.insert(node)\n",
    "    \n",
    "    # range query method - optional inclusive\n",
    "    def range_query(self, interval, inclusive=False):\n",
    "        # error message if not list or tuple\n",
    "        if not isinstance(interval, (list, tuple)) and len(interval) != 2:\n",
    "            raise ValueError('The first argument must be a list or tuple of length 2')\n",
    "        \n",
    "        # make interval\n",
    "        lower, upper = interval\n",
    "        \n",
    "        # if lower is none, do less than method, else greater than - simple for user!\n",
    "        if lower is None:\n",
    "            return self.less_than(self.root, upper, inclusive=inclusive)\n",
    "        return self.greater_than(self.root, lower, upper_bound=upper, inclusive=inclusive)\n",
    "    \n",
    "    # dump method that saves to a file\n",
    "    def dump(self, filename):\n",
    "        # concat .db\n",
    "        filename = filename + '.db'\n",
    "        # pickle dump method and return True to show it worked, else False\n",
    "        with open(filename, 'wb') as f:\n",
    "            pickle.dump(self, f)\n",
    "            return True\n",
    "        return False\n",
    "    \n",
    "    # immutable via inheritance - load method\n",
    "    @staticmethod\n",
    "    def load(filename):\n",
    "        # concat .db\n",
    "        filename = filename + '.db'\n",
    "        # pickle load to this file!\n",
    "        with open(filename, 'rb') as f:\n",
    "            return pickle.load(f)"
   ]
  },
  {
   "cell_type": "markdown",
   "metadata": {},
   "source": [
    "There are a few extra things in th code such as @staticmethod, but hopefully a well commented code will help readers understand. The dump and load methods look obviously very similar as their processes are basically the same; their end goals are just different."
   ]
  },
  {
   "cell_type": "markdown",
   "metadata": {},
   "source": [
    "## Load from Dictionary\n",
    "One last thing to do. To make things just a bit easier, we will write a method to load from a dict that loads in keys and values from a Python dict. We must be aware that a dict can have any key and we place a restriction on our keys.\n",
    "\n",
    "This makes it so a user can not only load from file but from any Python dict as well."
   ]
  },
  {
   "cell_type": "code",
   "execution_count": 13,
   "metadata": {
    "collapsed": true
   },
   "outputs": [],
   "source": [
    "# get pickle\n",
    "# documentation: https://docs.python.org/3/library/pickle.html\n",
    "# import stuff from btree file\n",
    "import pickle\n",
    "from btree import Node, BTree, NodeKey\n",
    "\n",
    "# make a KV class that inherits BTree\n",
    "class KV(BTree):\n",
    "    # adjust init to override - sets data type and degree to 10\n",
    "    def __init__(self, type_, values=None):\n",
    "        self.type = type_\n",
    "        # uses super to call origninal\n",
    "        super().__init__(10)\n",
    "    \n",
    "    # get method\n",
    "    def get(self, key):\n",
    "        # search for a key given\n",
    "        value = self.search(self.root, key)\n",
    "        # simply return the value or an error if there is none\n",
    "        if value is None:\n",
    "            raise KeyError('There is no value for key \"{}\"'.format(key))\n",
    "        return value\n",
    "    \n",
    "    # set method\n",
    "    def set(self, key, value):\n",
    "        # if no value given - obv error\n",
    "        if value is None:\n",
    "            raise ValueError('Cannot store None values')\n",
    "        # key must match type\n",
    "        if not isinstance(key, self.type):\n",
    "            raise KeyError('Key must be of type {}'.format(self.type))\n",
    "        # set exists to make sure it is none\n",
    "        exists = self.search(self.root, key)\n",
    "        if exists is not None:\n",
    "            raise ValueError('Cannot store duplicate key values')\n",
    "        \n",
    "        # insert the node where the key is given value\n",
    "        node = NodeKey(key, value)\n",
    "        self.insert(node)\n",
    "    \n",
    "    # range query method - optional inclusive\n",
    "    def range_query(self, interval, inclusive=False):\n",
    "        # error message if not list or tuple\n",
    "        if not isinstance(interval, (list, tuple)) and len(interval) != 2:\n",
    "            raise ValueError('The first argument must be a list or tuple of length 2')\n",
    "        \n",
    "        # make interval\n",
    "        lower, upper = interval\n",
    "        \n",
    "        # if lower is none, do less than method, else greater than - simple for user!\n",
    "        if lower is None:\n",
    "            return self.less_than(self.root, upper, inclusive=inclusive)\n",
    "        return self.greater_than(self.root, lower, upper_bound=upper, inclusive=inclusive)\n",
    "    \n",
    "    # dump method that saves to a file\n",
    "    def dump(self, filename):\n",
    "        # concat .db\n",
    "        filename = filename + '.db'\n",
    "        # pickle dump method and return True to show it worked, else False\n",
    "        with open(filename, 'wb') as f:\n",
    "            pickle.dump(self, f)\n",
    "            return True\n",
    "        return False\n",
    "    \n",
    "    # immutable via inheritance - load method\n",
    "    @staticmethod\n",
    "    def load(filename):\n",
    "        # concat .db\n",
    "        filename = filename + '.db'\n",
    "        # pickle load to this file!\n",
    "        with open(filename, 'rb') as f:\n",
    "            return pickle.load(f)\n",
    "    \n",
    "    # load from dict method that takes in dictionary\n",
    "    def load_from_dict(self, dictionary):\n",
    "        # set method for each key and value, simple\n",
    "        for key, value in dictionary.items():\n",
    "            self.set(key, value)"
   ]
  },
  {
   "cell_type": "markdown",
   "metadata": {},
   "source": [
    "Now our whole class is complete! Obviously we can add more methods if we wanted, but the basis of what we have now can be perfectly fine for a user. \n",
    "\n",
    "To test our class out now, let's do some basic executions!"
   ]
  },
  {
   "cell_type": "code",
   "execution_count": 18,
   "metadata": {
    "collapsed": false
   },
   "outputs": [
    {
     "name": "stdout",
     "output_type": "stream",
     "text": [
      "[<NodeKey: (2, world)>]\n",
      "\n",
      "[<NodeKey: (2, world)>]\n",
      "\n",
      "[<NodeKey: (5, a)>, <NodeKey: (6, simple)>, <NodeKey: (7, kv store)>]\n",
      "\n",
      "a\n"
     ]
    }
   ],
   "source": [
    "# initialize an instance\n",
    "db = KV(int)\n",
    "\n",
    "# do some sets\n",
    "db.set(1, 'hello')\n",
    "db.set(2, 'world')\n",
    "db.set(3, 'this')\n",
    "db.set(4, 'is')\n",
    "\n",
    "# see what we got so far\n",
    "print(db.range_query([1,3]))\n",
    "print()\n",
    "\n",
    "# save it into sample_store file\n",
    "db.dump('sample_store')\n",
    "\n",
    "# load it back into kv instance\n",
    "kv = KV.load('sample_store')\n",
    "\n",
    "# see what we got again (should be same)\n",
    "print(kv.range_query([1,3]))\n",
    "print()\n",
    "\n",
    "# add some additional keys\n",
    "additional_keys = {\n",
    "    5: 'a',\n",
    "    6: 'simple',\n",
    "    7: 'kv store'\n",
    "}\n",
    "\n",
    "# load from the dict these keys\n",
    "kv.load_from_dict(additional_keys)\n",
    "\n",
    "# see them in action\n",
    "print(kv.range_query([4,8]))\n",
    "print()\n",
    "\n",
    "# test get method\n",
    "print(kv.get(5))"
   ]
  },
  {
   "cell_type": "markdown",
   "metadata": {},
   "source": [
    "Looks like everything works great! The example were really easy to follow, and even the print statements show exactly what we are doing. It looks like this basic database project was a success!"
   ]
  },
  {
   "cell_type": "markdown",
   "metadata": {},
   "source": [
    "## Further Analysis / Next Steps\n",
    "Even though we said our \"store\" was a success, it never really is complete, is it? This isn't a knock on our project, more so recognizing that most projects are never complete. There are a lot more behaviors that you could implement to make it even more useful. \n",
    "\n",
    "These are often use case specific though and often times implementing a method that ends up not being very helpful due to circumstances is just a waste. Below, we will just highlight some of the different things that are **possible** to be implemented, should they ever be needed! \n",
    "\n",
    "Note: While not a KV database, for a complete database instanced project with full analysis, check out the \"Baseball\" project in the Data Analysis Github repo."
   ]
  },
  {
   "cell_type": "markdown",
   "metadata": {},
   "source": [
    "## Possible Features\n",
    "A few additional features you could provide:\n",
    "\n",
    "* Enhancing the API and making it look more \"Pythonic\" using special methods for set and get. (This is really more of a aesthetic thing rather than a efficiency thing - but often times better looking code can still result in the latter.)\n",
    "\n",
    "* A different serializer so that you can use different versions of Python. (Something like JSON might work here.)\n",
    "\n",
    "* A delete method that would remove nodes from the kv store. (This is an efficiency improvement that would work if you needed something that was more flowing. Instead of dumping and loading all at once, perhaps you are in need of just removing a couple nodes. This will essentially work similar but opposite to a set.)\n",
    "\n",
    "* Saving out to multiple files using the keys as pointers to files for bigger databases. (This would be a good use if your file ends up being too big (ours obviously isn't). The code will have the same foundation except now you will need to obviously insert more than one file name and the db will be split in certain areas.)\n",
    "\n",
    "* Implementing the kv store on top of a B+Tree, another variation of the b-tree family of data structures. (This is one of those different strokes for different folks type situations - the BTree works fine, but a B+Tree might be better depending on your preference and situation. B+Tree: https://en.m.wikipedia.org/wiki/B%2B_tree.)\n",
    "\n",
    "Remember that all these are just a sample of the things that you can do with the kv store. The possibilities are literally endless, and if your situation calls for it, more likely than not, you can do it!\n",
    "\n",
    "It is also important to note that Python itself and its primitive libraries should not be underestimated. Open source code is open source for a reason - for the best minds to work on and improve things. If a method, function, or class already exists that you are trying to add, it's probably best to not re-invent the wheel."
   ]
  },
  {
   "cell_type": "markdown",
   "metadata": {},
   "source": [
    "## Conclusion\n",
    "In this project, we highlighted the inner workings of a KV key-value database class that used attributes of a BTree. We used helper code that can be viewed in their respective files within this directory. We also added various methods such as a getter, setter, load, dump, range_query, etc. to the class that proved to be very helpful when a user is writing code. \n",
    "\n",
    "Depending on your situation and what you need, this code can actually be used as a basis for an actual use case for a specific KV database that you need in industry. In a truly individualized and customized database, the code will be very similar to many other classes, but never the same. This is a blessing that must be recognized; often times improving on existing work comes from small tweaks here and there, but the foundation stays the same. Complete overhauls are rarely necessary.\n",
    "\n",
    "Overall, this project was a very nice showing of how basic b-trees work and a basic key-value database in action. A b-tree is one of the more complex data structures, but once mastered, it can seem as basic as anything else. As far as data engineering goes, like it is always said, practice makes perfect."
   ]
  }
 ],
 "metadata": {
  "kernelspec": {
   "display_name": "Python 3",
   "language": "python",
   "name": "python3"
  },
  "language_info": {
   "codemirror_mode": {
    "name": "ipython",
    "version": 3
   },
   "file_extension": ".py",
   "mimetype": "text/x-python",
   "name": "python",
   "nbconvert_exporter": "python",
   "pygments_lexer": "ipython3",
   "version": "3.4.3"
  }
 },
 "nbformat": 4,
 "nbformat_minor": 0
}
